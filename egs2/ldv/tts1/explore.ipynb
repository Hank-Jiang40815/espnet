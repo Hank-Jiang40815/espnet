{
 "cells": [
  {
   "cell_type": "code",
   "execution_count": 1,
   "metadata": {},
   "outputs": [],
   "source": [
    "import numpy as np\n",
    "import torch\n",
    "import pandas as pd"
   ]
  },
  {
   "cell_type": "code",
   "execution_count": 2,
   "metadata": {},
   "outputs": [],
   "source": [
    "import argparse\n",
    "import os\n",
    "from espnet2.utils.types import str2bool"
   ]
  },
  {
   "cell_type": "code",
   "execution_count": 3,
   "metadata": {},
   "outputs": [
    {
     "name": "stdout",
     "output_type": "stream",
     "text": [
      "boy5_plastic_LDV_001.wav\n",
      "boy5_plastic_LDV_002.wav\n",
      "boy5_plastic_LDV_003.wav\n",
      "boy5_plastic_LDV_004.wav\n",
      "boy5_plastic_LDV_005.wav\n",
      "boy5_plastic_LDV_006.wav\n",
      "boy5_plastic_LDV_007.wav\n",
      "boy5_plastic_LDV_008.wav\n",
      "boy5_plastic_LDV_009.wav\n",
      "boy5_plastic_LDV_010.wav\n"
     ]
    }
   ],
   "source": [
    "!ls /jiawei/LDV/data/3分段/boy5/LDV\t| head"
   ]
  },
  {
   "cell_type": "code",
   "execution_count": 4,
   "metadata": {},
   "outputs": [],
   "source": [
    "parser = argparse.ArgumentParser()\n",
    "parser.add_argument(\"--src\", type=str)\n",
    "parser.add_argument(\"--dest\", type=str)\n",
    "parser.add_argument(\"--external_g2p\", type=str2bool, default=True)\n",
    "\n",
    "args = parser.parse_args('')"
   ]
  },
  {
   "cell_type": "code",
   "execution_count": 5,
   "metadata": {},
   "outputs": [],
   "source": [
    "args.src = '/jiawei/LDV/data/3分段/boy5/'\n",
    "args.dest = '/jiawei/LDV/data/kaldi/train'"
   ]
  },
  {
   "cell_type": "code",
   "execution_count": 6,
   "metadata": {},
   "outputs": [],
   "source": [
    "!mkdir -p '/jiawei/LDV/data/kaldi/train'"
   ]
  },
  {
   "cell_type": "code",
   "execution_count": 7,
   "metadata": {},
   "outputs": [],
   "source": [
    "wav_dir = os.path.join(args.src, \"LDV\")\n",
    "utt2spk = open(os.path.join(args.dest, \"utt2spk\"), \"w\", encoding=\"utf-8\")\n",
    "text = open(os.path.join(args.dest, \"text\"), \"w\", encoding=\"utf-8\")"
   ]
  },
  {
   "cell_type": "code",
   "execution_count": 8,
   "metadata": {},
   "outputs": [],
   "source": [
    "from pypinyin import pinyin, lazy_pinyin, Style"
   ]
  },
  {
   "cell_type": "code",
   "execution_count": 9,
   "metadata": {},
   "outputs": [
    {
     "data": {
      "text/plain": [
       "[['zhōng'], ['xīn']]"
      ]
     },
     "execution_count": 9,
     "metadata": {},
     "output_type": "execute_result"
    }
   ],
   "source": [
    "pinyin('中心')"
   ]
  },
  {
   "cell_type": "code",
   "execution_count": 10,
   "metadata": {},
   "outputs": [
    {
     "data": {
      "text/plain": [
       "[['dàn'],\n",
       " ['tā'],\n",
       " ['rèn'],\n",
       " ['wèi'],\n",
       " ['hěn'],\n",
       " ['shǎo'],\n",
       " ['tái'],\n",
       " ['wān'],\n",
       " ['rén'],\n",
       " ['yì'],\n",
       " ['shí'],\n",
       " ['dào'],\n",
       " ['zì'],\n",
       " ['jǐ'],\n",
       " ['lí'],\n",
       " ['zhǔn'],\n",
       " ['bèi'],\n",
       " ['yīng'],\n",
       " ['duì'],\n",
       " ['gāi'],\n",
       " ['tiāo'],\n",
       " ['zhàn'],\n",
       " ['yǒu'],\n",
       " ['duō'],\n",
       " ['yuǎn']]"
      ]
     },
     "execution_count": 10,
     "metadata": {},
     "output_type": "execute_result"
    }
   ],
   "source": [
    "pinyin('但他認為很少台灣人意識到自己離準備應對該挑戰有多遠')"
   ]
  },
  {
   "cell_type": "code",
   "execution_count": 11,
   "metadata": {},
   "outputs": [
    {
     "data": {
      "text/plain": [
       "[['dan4'],\n",
       " ['ta1'],\n",
       " ['ren4'],\n",
       " ['wei4'],\n",
       " ['hen3'],\n",
       " ['shao3'],\n",
       " ['tai2'],\n",
       " ['wan1'],\n",
       " ['ren2'],\n",
       " ['yi4'],\n",
       " ['shi2'],\n",
       " ['dao4'],\n",
       " ['zi4'],\n",
       " ['ji3'],\n",
       " ['li2'],\n",
       " ['zhun3'],\n",
       " ['bei4'],\n",
       " ['ying1'],\n",
       " ['dui4'],\n",
       " ['gai1'],\n",
       " ['tiao1'],\n",
       " ['zhan4'],\n",
       " ['you3'],\n",
       " ['duo1'],\n",
       " ['yuan3']]"
      ]
     },
     "execution_count": 11,
     "metadata": {},
     "output_type": "execute_result"
    }
   ],
   "source": [
    "pinyin('但他認為很少台灣人意識到自己離準備應對該挑戰有多遠', style=Style.TONE3)"
   ]
  },
  {
   "cell_type": "code",
   "execution_count": 12,
   "metadata": {},
   "outputs": [],
   "source": [
    "import whisper\n"
   ]
  },
  {
   "cell_type": "code",
   "execution_count": 13,
   "metadata": {},
   "outputs": [],
   "source": [
    "model = whisper.load_model(\"large\")"
   ]
  },
  {
   "cell_type": "code",
   "execution_count": 14,
   "metadata": {},
   "outputs": [],
   "source": [
    "# audio = whisper.load_audio('/jiawei/LDV/data/3分段/boy5/target/boy5_pl_clean_001.wav')\n",
    "audio = whisper.load_audio('/jiawei/espnet/egs2/aishell3/tts1/downloads/train/wav/SSB0005/SSB00050001.wav')\n",
    "audio = whisper.pad_or_trim(audio)"
   ]
  },
  {
   "cell_type": "code",
   "execution_count": 15,
   "metadata": {},
   "outputs": [
    {
     "data": {
      "text/plain": [
       "(480000,)"
      ]
     },
     "execution_count": 15,
     "metadata": {},
     "output_type": "execute_result"
    }
   ],
   "source": [
    "audio.shape"
   ]
  },
  {
   "cell_type": "code",
   "execution_count": 19,
   "metadata": {},
   "outputs": [
    {
     "name": "stdout",
     "output_type": "stream",
     "text": [
      "这学期学校有书法比赛\n"
     ]
    }
   ],
   "source": [
    "result = model.transcribe('/jiawei/LDV/data/3分段/boy5/target/boy5_pl_clean_001.wav', language='Chinese')\n",
    "print(result['text'])"
   ]
  },
  {
   "cell_type": "code",
   "execution_count": 39,
   "metadata": {},
   "outputs": [
    {
     "name": "stdout",
     "output_type": "stream",
     "text": [
      "这学期学校有书法比赛\n"
     ]
    }
   ],
   "source": [
    "file_name = '/jiawei/LDV/data/3分段/boy5/LDV/boy5_plastic_LDV_001.wav'\n",
    "result = model.transcribe(file_name, language='Chinese')\n",
    "text = result['text'] \n",
    "print(text)"
   ]
  },
  {
   "cell_type": "code",
   "execution_count": 40,
   "metadata": {},
   "outputs": [],
   "source": [
    "result2 = pinyin(result['text'], style=Style.TONE3)\n",
    "# print(' '.join(result))"
   ]
  },
  {
   "cell_type": "code",
   "execution_count": 41,
   "metadata": {},
   "outputs": [
    {
     "data": {
      "text/plain": [
       "[['zhe4'],\n",
       " ['xue2'],\n",
       " ['qi1'],\n",
       " ['xue2'],\n",
       " ['xiao4'],\n",
       " ['you3'],\n",
       " ['shu1'],\n",
       " ['fa3'],\n",
       " ['bi3'],\n",
       " ['sai4']]"
      ]
     },
     "execution_count": 41,
     "metadata": {},
     "output_type": "execute_result"
    }
   ],
   "source": [
    "result2"
   ]
  },
  {
   "cell_type": "code",
   "execution_count": 45,
   "metadata": {},
   "outputs": [],
   "source": [
    "wav = os.path.basename(file_name)\n",
    "combined = f\"{wav} \"\n",
    "\n",
    "for char, pinyin_list in zip(text, result2):\n",
    "    combined += f\"{char} {''.join(pinyin_list)} \"\n",
    "combined = combined.strip()"
   ]
  },
  {
   "cell_type": "code",
   "execution_count": 46,
   "metadata": {},
   "outputs": [
    {
     "data": {
      "text/plain": [
       "'boy5_plastic_LDV_001.wav 这 zhe4 学 xue2 期 qi1 学 xue2 校 xiao4 有 you3 书 shu1 法 fa3 比 bi3 赛 sai4'"
      ]
     },
     "execution_count": 46,
     "metadata": {},
     "output_type": "execute_result"
    }
   ],
   "source": [
    "combined"
   ]
  },
  {
   "cell_type": "code",
   "execution_count": 51,
   "metadata": {},
   "outputs": [],
   "source": [
    "# 導入os模塊，用於操作文件和目錄\n",
    "import os\n",
    "# 導入shutil模塊，用於複製文件\n",
    "import shutil\n",
    "\n",
    "# 定義原始資料的根目錄\n",
    "source_root = '/jiawei/LDV/data/3分段'\n",
    "\n",
    "# 定義目標資料的根目錄\n",
    "target_root = '/jiawei/dataset'\n",
    "\n",
    "# 定義訓練集和測試集的比例\n",
    "train_ratio = 0.8\n",
    "\n",
    "# 遍歷原始資料的子目錄，例如boy3, boy5等\n",
    "for sub_dir in os.listdir(source_root):\n",
    "    # 獲取子目錄的完整路徑\n",
    "    sub_path = os.path.join(source_root, sub_dir, 'LDV')\n",
    "    # 判斷是否是文件夾\n",
    "    if os.path.isdir(sub_path):\n",
    "        # 獲取子目錄下的所有wav文件\n",
    "        wav_files = [f for f in os.listdir(sub_path) if f.endswith('.wav')]\n",
    "        # 計算訓練集和測試集的數量\n",
    "        train_num = int(len(wav_files) * train_ratio)\n",
    "        test_num = len(wav_files) - train_num\n",
    "        # 將wav文件分成訓練集和測試集\n",
    "        train_files = wav_files[:train_num]\n",
    "        test_files = wav_files[train_num:]\n",
    "        # 創建訓練集和測試集的目錄\n",
    "        train_dir = os.path.join(target_root, 'train', 'wav', sub_dir)\n",
    "        test_dir = os.path.join(target_root, 'test', 'wav', sub_dir)\n",
    "        os.makedirs(train_dir, exist_ok=True)\n",
    "        os.makedirs(test_dir, exist_ok=True)\n",
    "        # 將訓練集和測試集的文件複製到對應的目錄\n",
    "        for train_file in train_files:\n",
    "            # 獲取原始文件的完整路徑\n",
    "            source_file = os.path.join(sub_path, train_file)\n",
    "            # 獲取目標文件的完整路徑\n",
    "            target_file = os.path.join(train_dir, train_file)\n",
    "            # 複製文件\n",
    "            shutil.copy(source_file, target_file)\n",
    "        for test_file in test_files:\n",
    "            # 獲取原始文件的完整路徑\n",
    "            source_file = os.path.join(sub_path, test_file)\n",
    "            # 獲取目標文件的完整路徑\n",
    "            target_file = os.path.join(test_dir, test_file)\n",
    "            # 複製文件\n",
    "            shutil.copy(source_file, target_file)\n"
   ]
  },
  {
   "cell_type": "code",
   "execution_count": 1,
   "metadata": {},
   "outputs": [
    {
     "name": "stdout",
     "output_type": "stream",
     "text": [
      "<_io.TextIOWrapper name='/jiawei/dataset/train/content.txt' mode='w' encoding='utf-8'>\n"
     ]
    }
   ],
   "source": [
    "# 導入os模塊，用於操作文件和目錄\n",
    "import os\n",
    "# 導入whisper模塊，用於語音轉文字\n",
    "import whisper\n",
    "# 導入pypinyin模塊，用於漢字轉拼音\n",
    "from pypinyin import pinyin, Style\n",
    "\n",
    "# 定義wav文件的根目錄\n",
    "wav_root = '/jiawei/dataset'\n",
    "whisper_model = whisper.load_model('large-v2')\n",
    "\n",
    "# 定義一個函數，用於轉錄wav文件並返回文本和拼音\n",
    "def transcribe_wav(wav_file_path):\n",
    "    # 使用Whisper的large-v2模型轉錄wav文件\n",
    "    result = whisper_model.transcribe(wav_file_path)\n",
    "    # 獲取轉錄的文本\n",
    "    text = result['text']\n",
    "    # 使用pypinyin將文本轉換為拼音（帶聲調）\n",
    "    pinyin_list = pinyin(text, style=Style.TONE3)\n",
    "    # 返回文本和拼音\n",
    "    return text, pinyin_list\n",
    "\n",
    "# 定義一個函數，用於將文本和拼音結合成指定的格式\n",
    "def combine_text_pinyin(wav_file, text, pinyin_list):\n",
    "    # 將文本和拼音結合成指定的格式\n",
    "    combined = f\"{wav_file} \"\n",
    "    for char, pinyin_item in zip(text, pinyin_list):\n",
    "        combined += f\"{char} {''.join(pinyin_item)} \"\n",
    "    # 移除最後的空格\n",
    "    combined = combined.strip()\n",
    "    # 返回結合後的字符串\n",
    "    return combined\n",
    "\n",
    "# 定義一個函數，用於遍歷wav文件夾下的子目錄，並將轉錄結果寫入content.txt文件\n",
    "def process_wav_dir(wav_dir, content_file):\n",
    "    # 遍歷wav文件夾下的子目錄，例如boy3, boy5等\n",
    "    for wav_sub_dir in os.listdir(wav_dir):\n",
    "        # 獲取子目錄的完整路徑\n",
    "        wav_sub_path = os.path.join(wav_dir, wav_sub_dir)\n",
    "        # 判斷是否是文件夾\n",
    "        if os.path.isdir(wav_sub_path):\n",
    "            # 獲取子目錄下的所有wav文件\n",
    "            wav_files = [f for f in os.listdir(wav_sub_path) if f.endswith('.wav')]\n",
    "            # 遍歷每個wav文件\n",
    "            for wav_file in wav_files:\n",
    "                # 獲取wav文件的完整路徑\n",
    "                wav_file_path = os.path.join(wav_sub_path, wav_file)\n",
    "                # 轉錄wav文件並獲得文本和拼音\n",
    "                text, pinyin_list = transcribe_wav(wav_file_path)\n",
    "                # 將文本和拼音結合成指定的格式\n",
    "                combined = combine_text_pinyin(wav_file, text, pinyin_list)\n",
    "                # 將結果寫入content.txt文件，每行一個wav文件的結果\n",
    "                content_file.write(combined + '\\n')\n",
    "\n",
    "# 遍歷wav文件的子目錄，例如train, test等\n",
    "for sub_dir in os.listdir(wav_root):\n",
    "    # 獲取子目錄的完整路徑\n",
    "    sub_path = os.path.join(wav_root, sub_dir)\n",
    "    # 判斷是否是文件夾\n",
    "    if os.path.isdir(sub_path):\n",
    "        # 定義content.txt文件的路徑，根據不同的子目錄生成不同的文件\n",
    "        content_path = os.path.join(sub_path, 'content.txt')\n",
    "        # 打開content.txt文件，準備寫入\n",
    "        with open(content_path, 'w', encoding='utf-8') as f:\n",
    "            # 獲取子目錄下的wav文件夾的路徑\n",
    "            wav_path = os.path.join(sub_path, 'wav')\n",
    "            # 調用函數，遍歷wav文件夾下的子目錄，並將轉錄結果寫入content.txt文件\n",
    "            process_wav_dir(wav_path, f)\n"
   ]
  },
  {
   "cell_type": "code",
   "execution_count": null,
   "metadata": {},
   "outputs": [],
   "source": []
  },
  {
   "cell_type": "code",
   "execution_count": null,
   "metadata": {},
   "outputs": [],
   "source": []
  }
 ],
 "metadata": {
  "kernelspec": {
   "display_name": "base",
   "language": "python",
   "name": "python3"
  },
  "language_info": {
   "codemirror_mode": {
    "name": "ipython",
    "version": 3
   },
   "file_extension": ".py",
   "mimetype": "text/x-python",
   "name": "python",
   "nbconvert_exporter": "python",
   "pygments_lexer": "ipython3",
   "version": "3.8.18"
  }
 },
 "nbformat": 4,
 "nbformat_minor": 2
}
